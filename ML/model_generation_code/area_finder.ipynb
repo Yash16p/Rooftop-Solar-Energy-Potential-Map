{
 "cells": [
  {
   "cell_type": "code",
   "execution_count": 9,
   "metadata": {},
   "outputs": [
    {
     "name": "stdout",
     "output_type": "stream",
     "text": [
      "Corners (lat, lon): [(-43.6116600211, -22.8948639367), (-43.6096921247, -22.8948639367), (-43.6096921247, -22.8966871589), (-43.6116600211, -22.8966871589)]\n",
      "Image area: 44461.92 square meters\n"
     ]
    }
   ],
   "source": [
    "import rasterio\n",
    "from rasterio.warp import transform\n",
    "from shapely.geometry import Polygon\n",
    "\n",
    "def get_image_corners(image_path):\n",
    "    with rasterio.open(image_path) as src:\n",
    "        \n",
    "        bounds = src.bounds\n",
    "    \n",
    "        crs = src.crs\n",
    "        \n",
    "        \n",
    "        corners = [\n",
    "            (bounds.left, bounds.top),     \n",
    "            (bounds.right, bounds.top),    \n",
    "            (bounds.right, bounds.bottom),\n",
    "            (bounds.left, bounds.bottom)   \n",
    "        ]\n",
    "        \n",
    "       \n",
    "        corners_wgs84 = transform(crs, {'init': 'epsg:4326'}, [corner[0] for corner in corners], [corner[1] for corner in corners])\n",
    "        \n",
    "       \n",
    "        corners_wgs84 = list(zip(corners_wgs84[0], corners_wgs84[1]))\n",
    "        \n",
    "    return corners_wgs84\n",
    "\n",
    "def calculate_polygon_area(polygon_coords):\n",
    "    polygon = Polygon(polygon_coords)\n",
    "    area = polygon.area  \n",
    "    \n",
    "  \n",
    "    area_sqm = area * (111320 * 111320)\n",
    "    \n",
    "    return area_sqm\n",
    "\n",
    "image_path = 'images.tif'\n",
    "corners_wgs84 = get_image_corners(image_path)\n",
    "print(\"Corners (lat, lon):\", corners_wgs84)\n",
    "\n",
    "\n",
    "image_area_sqm = calculate_polygon_area(corners_wgs84)\n",
    "print(f\"Image area: {image_area_sqm:.2f} square meters\")"
   ]
  },
  {
   "cell_type": "code",
   "execution_count": 19,
   "metadata": {},
   "outputs": [],
   "source": [
    "import rasterio\n",
    "import numpy as np\n",
    "from shapely.geometry import Polygon, shape\n",
    "import json\n",
    "import cv2\n",
    "\n",
    "def get_image_area_in_pixels(image_path):\n",
    "    with rasterio.open(image_path) as src:\n",
    "        width = src.width\n",
    "        height = src.height\n",
    "        image_area_pixels = width * height\n",
    "    return image_area_pixels, width, height\n",
    "\n",
    "def get_image_corners(image_path):\n",
    "    with rasterio.open(image_path) as src:\n",
    "        bounds = src.bounds\n",
    "        crs = src.crs\n",
    "        \n",
    "        corners = [\n",
    "            (bounds.left, bounds.top),\n",
    "            (bounds.right, bounds.top),\n",
    "            (bounds.right, bounds.bottom),\n",
    "            (bounds.left, bounds.bottom)\n",
    "        ]\n",
    "        \n",
    "        corners_wgs84 = transform(crs, {'init': 'epsg:4326'}, [corner[0] for corner in corners], [corner[1] for corner in corners])\n",
    "        corners_wgs84 = list(zip(corners_wgs84[0], corners_wgs84[1]))\n",
    "        \n",
    "    return corners_wgs84\n",
    "\n",
    "def calculate_image_area(image_path):\n",
    "    corners_wgs84 = get_image_corners(image_path)\n",
    "    polygon = Polygon(corners_wgs84)\n",
    "    area = polygon.area\n",
    "    \n",
    "    area_sqm = area * (111320 * 111320)\n",
    "    return area_sqm\n",
    "\n",
    "def pixel_to_meter_conversion_factor(image_path):\n",
    "    image_area_pixels, width, height = get_image_area_in_pixels(image_path)\n",
    "    image_area_sqm = calculate_image_area(image_path)\n",
    "    conversion_factor = image_area_sqm / image_area_pixels\n",
    "    return conversion_factor, width, height\n"
   ]
  },
  {
   "cell_type": "code",
   "execution_count": 32,
   "metadata": {},
   "outputs": [],
   "source": [
    "def calculate_building_areas_from_masks(mask_path, conversion_factor):\n",
    "    mask = cv2.imread(mask_path, cv2.IMREAD_GRAYSCALE)\n",
    "    num_labels, labels_im = cv2.connectedComponents(mask)\n",
    "    \n",
    "    building_areas_pixels = []\n",
    "    for label in range(0, num_labels):\n",
    "        area_pixels = np.sum(labels_im == label)\n",
    "        print(area_pixels)\n",
    "        building_areas_pixels.append(area_pixels)\n",
    "    \n",
    "    building_areas_sqm = [area_pixels * conversion_factor for area_pixels in building_areas_pixels]\n",
    "    return building_areas_sqm\n"
   ]
  },
  {
   "cell_type": "code",
   "execution_count": 6,
   "metadata": {},
   "outputs": [],
   "source": [
    "# def get_building_areas_from_geojson(geojson_path):\n",
    "#     with open(geojson_path, 'r') as file:\n",
    "#         geojson_data = json.load(file)\n",
    "    \n",
    "#     building_areas_geojson = []\n",
    "#     for feature in geojson_data['features']:\n",
    "#         polygon = shape(feature['geometry'])\n",
    "#         area = polygon.area * (111320 * 111320)\n",
    "#         building_areas_geojson.append(area)\n",
    "    \n",
    "#     return building_areas_geojson\n",
    "\n"
   ]
  },
  {
   "cell_type": "code",
   "execution_count": 33,
   "metadata": {},
   "outputs": [
    {
     "name": "stdout",
     "output_type": "stream",
     "text": [
      "65536\n",
      "Building areas (square meters) from binary masks: [16385.813722290935]\n"
     ]
    }
   ],
   "source": [
    "def main(image_path, mask_path):\n",
    "    conversion_factor, width, height = pixel_to_meter_conversion_factor(image_path)\n",
    "    # print(conversion_factor,width,height)\n",
    "    building_areas_sqm = calculate_building_areas_from_masks(mask_path, conversion_factor)\n",
    "    # building_areas_geojson = get_building_areas_from_geojson(geojson_path)\n",
    "    \n",
    "    print(f\"Building areas (square meters) from binary masks: {building_areas_sqm}\")\n",
    "    # print(f\"Building areas (square meters) from GeoJSON: {building_areas_geojson}\")\n",
    "\n",
    "# Example usage\n",
    "image_path = 'images.tif'\n",
    "mask_path = 'predicted_mask.tif'\n",
    "# geojson_path = \"C:\\\\Users\\\\Lenovo\\\\Desktop\\\\model\\\\dataset\\\\labels\\\\00e7b749-6c4f-4b11-b25e-612970f62f60.geojson\"\n",
    "main(image_path, mask_path)"
   ]
  }
 ],
 "metadata": {
  "kernelspec": {
   "display_name": "Python 3 (ipykernel)",
   "language": "python",
   "name": "python3"
  },
  "language_info": {
   "codemirror_mode": {
    "name": "ipython",
    "version": 3
   },
   "file_extension": ".py",
   "mimetype": "text/x-python",
   "name": "python",
   "nbconvert_exporter": "python",
   "pygments_lexer": "ipython3",
   "version": "3.12.4"
  }
 },
 "nbformat": 4,
 "nbformat_minor": 4
}
