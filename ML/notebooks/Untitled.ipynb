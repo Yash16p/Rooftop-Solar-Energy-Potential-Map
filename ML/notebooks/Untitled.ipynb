{
 "cells": [
  {
   "cell_type": "code",
   "execution_count": null,
   "id": "ed030458-c30d-4f2b-be0d-2a8aac762f74",
   "metadata": {},
   "outputs": [],
   "source": [
    "from ultralytics import YOLO\n",
    "import cv2"
   ]
  },
  {
   "cell_type": "code",
   "execution_count": null,
   "id": "38c19174-9530-4b12-9e64-b0d47a88c241",
   "metadata": {},
   "outputs": [],
   "source": [
    "model = YOLO(\"best.pt\")"
   ]
  },
  {
   "cell_type": "code",
   "execution_count": null,
   "id": "1aeb55a7-4e57-4ef1-8974-c0db2330022c",
   "metadata": {},
   "outputs": [],
   "source": [
    "# Prepare the input data\n",
    "img = cv2.imread(\"D:\\Rooftop-Solar-Energy-Potential-Map\\ML\\data\\external\\source\\DL54_55b2_3_6.tif\")  # Load an image using OpenCV\n"
   ]
  },
  {
   "cell_type": "code",
   "execution_count": null,
   "id": "0b1c9210-4bd5-4c8f-9b4d-90744b236034",
   "metadata": {},
   "outputs": [],
   "source": [
    "results = model(img)"
   ]
  },
  {
   "cell_type": "code",
   "execution_count": null,
   "id": "26c32105-1fba-4962-ace1-94c3dcbd2ee9",
   "metadata": {},
   "outputs": [],
   "source": []
  }
 ],
 "metadata": {
  "kernelspec": {
   "display_name": "Python 3 (ipykernel)",
   "language": "python",
   "name": "python3"
  },
  "language_info": {
   "codemirror_mode": {
    "name": "ipython",
    "version": 3
   },
   "file_extension": ".py",
   "mimetype": "text/x-python",
   "name": "python",
   "nbconvert_exporter": "python",
   "pygments_lexer": "ipython3",
   "version": "3.12.4"
  }
 },
 "nbformat": 4,
 "nbformat_minor": 5
}
