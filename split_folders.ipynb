{
 "cells": [
  {
   "cell_type": "code",
   "execution_count": 2,
   "id": "ca96f83d-3c18-482f-b176-b5b8aa48c2e2",
   "metadata": {},
   "outputs": [],
   "source": [
    "import splitfolders"
   ]
  },
  {
   "cell_type": "code",
   "execution_count": 3,
   "id": "a5249edd-2a37-4cd0-99c9-6b9ede58485c",
   "metadata": {},
   "outputs": [],
   "source": [
    "input_folder='dataset/'"
   ]
  },
  {
   "cell_type": "code",
   "execution_count": 4,
   "id": "915802eb-179f-4d08-889e-92c32547c479",
   "metadata": {},
   "outputs": [],
   "source": [
    "splitfolders.ratio(input_folder,output=\"data2\",ratio=(0.8,0.1,0.1))"
   ]
  }
 ],
 "metadata": {
  "kernelspec": {
   "display_name": "Python (GPU)",
   "language": "python",
   "name": "gpu_env"
  },
  "language_info": {
   "codemirror_mode": {
    "name": "ipython",
    "version": 3
   },
   "file_extension": ".py",
   "mimetype": "text/x-python",
   "name": "python",
   "nbconvert_exporter": "python",
   "pygments_lexer": "ipython3",
   "version": "3.9.19"
  }
 },
 "nbformat": 4,
 "nbformat_minor": 5
}
